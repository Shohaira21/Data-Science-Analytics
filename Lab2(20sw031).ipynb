{
  "nbformat": 4,
  "nbformat_minor": 0,
  "metadata": {
    "colab": {
      "provenance": []
    },
    "kernelspec": {
      "name": "python3",
      "display_name": "Python 3"
    },
    "language_info": {
      "name": "python"
    }
  },
  "cells": [
    {
      "cell_type": "code",
      "source": [
        "#ClassTask\n",
        "Square = [x**3 if x%3==0 else x**2 for x in range(3,31) ]\n",
        "print(Square)"
      ],
      "metadata": {
        "colab": {
          "base_uri": "https://localhost:8080/"
        },
        "id": "rKIuKtBZ0Mx9",
        "outputId": "012daa9f-048e-4cdf-e21b-ad99bb0b4678"
      },
      "execution_count": null,
      "outputs": [
        {
          "output_type": "stream",
          "name": "stdout",
          "text": [
            "[27, 16, 25, 216, 49, 64, 729, 100, 121, 1728, 169, 196, 3375, 256, 289, 5832, 361, 400, 9261, 484, 529, 13824, 625, 676, 19683, 784, 841, 27000]\n"
          ]
        }
      ]
    },
    {
      "cell_type": "code",
      "source": [
        "#ClassTask\n",
        "Free = 0\n",
        "Concession = 1.25\n",
        "Adult = 2.50\n",
        "\n",
        "x = int(input(\"Enter your age: \"))\n",
        "\n",
        "if x == 4:\n",
        "    print(\"Ticket is $\" + str(Free))\n",
        "elif x <= 18 and x > 4:\n",
        "    print(\"Ticket is $\" + str(Concession))\n",
        "else:\n",
        "    print(\"Ticket is $\" + str(Adult))"
      ],
      "metadata": {
        "id": "9ygpMhUg3h5d",
        "colab": {
          "base_uri": "https://localhost:8080/"
        },
        "outputId": "1412c811-b5e5-4616-af93-8f03ffa15ea8"
      },
      "execution_count": 1,
      "outputs": [
        {
          "output_type": "stream",
          "name": "stdout",
          "text": [
            "Enter your age: 22\n",
            "Ticket is $2.5\n"
          ]
        }
      ]
    },
    {
      "cell_type": "code",
      "source": [
        "#Task:01\n",
        "points = 174  # use this input to make your submission\n",
        "\n",
        "# write your if statement here\n",
        "if 1 <= points <= 50:\n",
        "    result = \"Congratulations! You won a wooden rabbit prize.\"\n",
        "elif 51 <= points <= 150:\n",
        "    result = \"Congratulations! You won a no prize.\"\n",
        "elif 151 <= points <= 180:\n",
        "    result = \"Congratulations! You won a water thin mint prize.\"\n",
        "elif 181 <= points <= 200:\n",
        "    result = \"Congratulations! You won a penguin prize.\"\n",
        "else:\n",
        "    result = \"Dear, no prize this time.\"\n",
        "\n",
        "print(result)"
      ],
      "metadata": {
        "colab": {
          "base_uri": "https://localhost:8080/"
        },
        "id": "Wc9M8_YI2klK",
        "outputId": "6deb9e8e-15a0-49c1-f004-eb56c240dab3"
      },
      "execution_count": null,
      "outputs": [
        {
          "output_type": "stream",
          "name": "stdout",
          "text": [
            "Congratulations! You won a water thin mint prize.\n"
          ]
        }
      ]
    },
    {
      "cell_type": "code",
      "source": [
        "\n",
        "\n",
        "#Task:02\n",
        "answer = 174 # Provide the answer here\n",
        "guess = 11 # Provide the guess here\n",
        "\n",
        "if guess < answer:\n",
        "    result = \"Oops! Your guess was too low.\"\n",
        "elif guess > answer:\n",
        "    result = \"Oops! Your guess was too high.\"\n",
        "else:\n",
        "    result = \"Nice! Your guess matched the answer!\"\n",
        "\n",
        "print(result)"
      ],
      "metadata": {
        "colab": {
          "base_uri": "https://localhost:8080/"
        },
        "id": "RYCuGBPWzriu",
        "outputId": "6f00d5bd-e7f0-42bb-9feb-f5018ef24836"
      },
      "execution_count": null,
      "outputs": [
        {
          "output_type": "stream",
          "name": "stdout",
          "text": [
            "Oops! Your guess was too low.\n"
          ]
        }
      ]
    },
    {
      "cell_type": "code",
      "source": [
        "#Task:03\n",
        "def calculate_tax(purchase_amount, state):\n",
        "    tax_rates = {\n",
        "        'CA': 0.075,\n",
        "        'MN': 0.095,\n",
        "        'NY': 0.089}\n",
        "\n",
        "    if state in tax_rates:\n",
        "        tax_rate = tax_rates[state]\n",
        "        tax_amount = purchase_amount * tax_rate\n",
        "        total_amount = purchase_amount + tax_amount\n",
        "        return total_amount\n",
        "    else:\n",
        "        print(\"State not found in the tax rates.\")\n",
        "        return None\n",
        "\n",
        "purchase_amount = 100\n",
        "state = 'CA'\n",
        "total_amount_with_tax = calculate_tax(purchase_amount, state)\n",
        "print(f\"Total amount with tax in {state}: ${total_amount_with_tax:.2f}\")"
      ],
      "metadata": {
        "colab": {
          "base_uri": "https://localhost:8080/"
        },
        "id": "YFDmr0oHztRB",
        "outputId": "6bf7b975-69e4-40a7-dc26-c2179e9600d9"
      },
      "execution_count": null,
      "outputs": [
        {
          "output_type": "stream",
          "name": "stdout",
          "text": [
            "Total amount with tax in CA: $107.50\n"
          ]
        }
      ]
    },
    {
      "cell_type": "code",
      "source": [
        "#Task:04\n",
        "my_list = [\"the\",\"quick\", \"brown\" , \"fox\", \"jumped\",\"over\", \"the\" , \"lazy\" , \"dog\"]\n",
        "\n",
        "for element in my_list:\n",
        "    print(element)"
      ],
      "metadata": {
        "colab": {
          "base_uri": "https://localhost:8080/"
        },
        "id": "cILuRSiOz72e",
        "outputId": "9df68b58-5cd2-41d6-c083-8a0727eccbcb"
      },
      "execution_count": null,
      "outputs": [
        {
          "output_type": "stream",
          "name": "stdout",
          "text": [
            "the\n",
            "quick\n",
            "brown\n",
            "fox\n",
            "jumped\n",
            "over\n",
            "the\n",
            "lazy\n",
            "dog\n"
          ]
        }
      ]
    },
    {
      "cell_type": "code",
      "source": [
        "#Task:05\n",
        "Multiple=[x for x in range (1, 31) if x%5==0]\n",
        "print(Multiple)"
      ],
      "metadata": {
        "colab": {
          "base_uri": "https://localhost:8080/"
        },
        "id": "JFF39K13z9oU",
        "outputId": "9481edf7-51d2-4a27-d78a-d826ac3145f0"
      },
      "execution_count": null,
      "outputs": [
        {
          "output_type": "stream",
          "name": "stdout",
          "text": [
            "[5, 10, 15, 20, 25, 30]\n"
          ]
        }
      ]
    },
    {
      "cell_type": "code",
      "source": [
        "#Task:06\n",
        "names = [\"Rick Sanchez\", \"Morty Smith\", \"Summer Smith\", \"Jerry Smith\", \"Beth Smith\"]\n",
        "# Using list comprehension to extract first names in lowercase\n",
        "first_names = [name.split()[0].lower() for name in names]\n",
        "\n",
        "print(first_names)"
      ],
      "metadata": {
        "colab": {
          "base_uri": "https://localhost:8080/"
        },
        "id": "24V-AFEL0CCi",
        "outputId": "08b9c003-aeef-43f6-b34a-10e4b1d5d6d7"
      },
      "execution_count": null,
      "outputs": [
        {
          "output_type": "stream",
          "name": "stdout",
          "text": [
            "['rick', 'morty', 'summer', 'jerry', 'beth']\n"
          ]
        }
      ]
    },
    {
      "cell_type": "code",
      "source": [
        "\n",
        "#Task:08\n",
        "scores = {\n",
        "    \"Rick Sanchez\": 70,\n",
        "    \"Morty Smith\": 35,\n",
        "    \"Summer Smith\": 82,\n",
        "    \"Jerry Smith\": 23,\n",
        "    \"Beth Smith\": 98\n",
        "}\n",
        "\n",
        "passed = [x for x in scores if scores[x] >= 65]\n",
        "print(passed)"
      ],
      "metadata": {
        "colab": {
          "base_uri": "https://localhost:8080/"
        },
        "id": "rVCRljoaxbR0",
        "outputId": "116d698b-5595-4f02-bac4-c00d44864a15"
      },
      "execution_count": null,
      "outputs": [
        {
          "output_type": "stream",
          "name": "stdout",
          "text": [
            "['Rick Sanchez', 'Summer Smith', 'Beth Smith']\n"
          ]
        }
      ]
    },
    {
      "cell_type": "code",
      "source": [
        "#Task:09\n",
        "cast_names = [\"Barney\", \"Robin\", \"Ted\", \"Lily\", \"Marshall\"]\n",
        "cast_heights = [72, 68, 72, 66, 76]\n",
        "\n",
        "cast = dict(zip(cast_names, cast_heights))\n",
        "print(cast)"
      ],
      "metadata": {
        "colab": {
          "base_uri": "https://localhost:8080/"
        },
        "id": "tEeHa-wIx0Wl",
        "outputId": "a2e6dadc-8940-469e-c3bd-909edf5fd81a"
      },
      "execution_count": null,
      "outputs": [
        {
          "output_type": "stream",
          "name": "stdout",
          "text": [
            "{'Barney': 72, 'Robin': 68, 'Ted': 72, 'Lily': 66, 'Marshall': 76}\n"
          ]
        }
      ]
    },
    {
      "cell_type": "code",
      "source": [
        "#Task:10\n",
        "cast = [\"Barney Stinson\", \"Robin Scherbatsky\", \"Ted Mosby\", \"Lily Aldrin\", \"Marshall Eriksen\"]\n",
        "heights = [72, 68, 72, 66, 76]\n",
        "\n",
        "for i, x in enumerate(cast):\n",
        "    cast[i] = x + \" \" + str(heights[i])\n",
        "\n",
        "print(cast)"
      ],
      "metadata": {
        "colab": {
          "base_uri": "https://localhost:8080/"
        },
        "id": "noIUK1pkyJy-",
        "outputId": "8db82883-398a-4627-93da-87a9807252e8"
      },
      "execution_count": null,
      "outputs": [
        {
          "output_type": "stream",
          "name": "stdout",
          "text": [
            "['Barney Stinson 72', 'Robin Scherbatsky 68', 'Ted Mosby 72', 'Lily Aldrin 66', 'Marshall Eriksen 76']\n"
          ]
        }
      ]
    },
    {
      "cell_type": "code",
      "source": [
        "#Task:07\n",
        "Square = [x for x in range(3,21) if x%3==0]\n",
        "print(Square)"
      ],
      "metadata": {
        "colab": {
          "base_uri": "https://localhost:8080/"
        },
        "id": "R17YBLagsb_y",
        "outputId": "38ca3bf8-dc09-4214-8e17-91f8f540b95e"
      },
      "execution_count": null,
      "outputs": [
        {
          "output_type": "stream",
          "name": "stdout",
          "text": [
            "[3, 6, 9, 12, 15, 18]\n"
          ]
        }
      ]
    }
  ]
}