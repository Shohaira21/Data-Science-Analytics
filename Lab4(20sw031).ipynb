{
  "nbformat": 4,
  "nbformat_minor": 0,
  "metadata": {
    "colab": {
      "provenance": []
    },
    "kernelspec": {
      "name": "python3",
      "display_name": "Python 3"
    },
    "language_info": {
      "name": "python"
    }
  },
  "cells": [
    {
      "cell_type": "code",
      "execution_count": null,
      "metadata": {
        "id": "GsZ86dDb_G_k"
      },
      "outputs": [],
      "source": [
        "#TASK:01\n",
        "import numpy as np\n",
        "x=np.arange(2,33,2).reshape(4,4)\n",
        "print(x)"
      ]
    },
    {
      "cell_type": "code",
      "source": [
        "#TASK:02'\n",
        "import numpy as np\n",
        "\n",
        "# Create a 5 x 5 ndarray with consecutive integers from 1 to 25 (inclusive).\n",
        "X = np.arange(1,26).reshape(5,5)\n",
        "print(X)\n",
        "# Use Boolean indexing to pick out only the odd numbers in the array\n",
        "Y = X[X%2!=0]\n",
        "print(Y)\n",
        "\n"
      ],
      "metadata": {
        "colab": {
          "base_uri": "https://localhost:8080/"
        },
        "id": "V5roNq9i_OCW",
        "outputId": "214f2d3f-30e6-457d-d294-8f62480ee339"
      },
      "execution_count": 5,
      "outputs": [
        {
          "output_type": "stream",
          "name": "stdout",
          "text": [
            "[[ 1  2  3  4  5]\n",
            " [ 6  7  8  9 10]\n",
            " [11 12 13 14 15]\n",
            " [16 17 18 19 20]\n",
            " [21 22 23 24 25]]\n",
            "[ 1  3  5  7  9 11 13 15 17 19 21 23 25]\n"
          ]
        }
      ]
    },
    {
      "cell_type": "code",
      "source": [
        "X#TASK:03\n",
        "import numpy as np\n",
        "x=np.arange(1,5).reshape(4,1)\n",
        "z=np.ones((1,4))\n",
        "y= x* np.ones((1,4))\n",
        "print(y)"
      ],
      "metadata": {
        "colab": {
          "base_uri": "https://localhost:8080/"
        },
        "id": "7JJCzERS_RiP",
        "outputId": "8f91e0a8-e47e-4966-bf03-54dcfea13076"
      },
      "execution_count": 11,
      "outputs": [
        {
          "output_type": "stream",
          "name": "stdout",
          "text": [
            "[[1. 1. 1. 1.]\n",
            " [2. 2. 2. 2.]\n",
            " [3. 3. 3. 3.]\n",
            " [4. 4. 4. 4.]]\n"
          ]
        }
      ]
    },
    {
      "cell_type": "code",
      "source": [
        "#TASK:04\n",
        "\n",
        "from google.colab  import drive\n",
        "drive.mount('/NumPy.ipnyb')\n",
        "\n",
        "import numpy as np\n",
        "\n",
        "# Create a 1000x20 ndarray with random integers in the range [0, 5001)\n",
        "X = np.random.randint(0, 5001, size=(1000, 20))\n",
        "# Print the shape of X\n",
        "print(X.shape)\n",
        "\n",
        "# Calculate the average of the values in each column of X\n",
        "ave_cols = np.mean(X, axis=0)\n",
        "\n",
        "# Calculate the standard deviation of the values in each column of X\n",
        "std_cols = np.std(X, axis=0)\n",
        "\n",
        "\n",
        "print(\"Shape of ave_cols:\", ave_cols.shape)\n",
        "print(\"Shape of std_cols:\", std_cols.shape)\n",
        "\n",
        "# Mean normalize X\n",
        "X_norm = (X - ave_cols) / std_cols\n",
        "\n",
        "print(\"Mean normalized X:\")\n",
        "print(X_norm)\n",
        "\n",
        "# Print the average of all the values of X_norm\n",
        "ave_all_values = np.mean(X_norm)\n",
        "print(\"Average of all values in X_norm:\", ave_all_values)\n",
        "\n",
        "# Print the average of the minimum value in each column of X_norm\n",
        "ave_min_values = np.mean(np.min(X_norm, axis=0))\n",
        "print(\"Average of minimum values in each column of X_norm:\", ave_min_values)\n",
        "\n",
        "# Print the average of the maximum value in each column of X_norm\n",
        "ave_max_values = np.mean(np.max(X_norm, axis=0))\n",
        "print(\"Average of maximum values in each column of X_norm:\", ave_max_values)\n",
        "\n",
        "# We create a random permutation of integers 0 to 4\n",
        "np.random.permutation(5)\n",
        "\n",
        "# Create a random permutation of row indices of X_norm\n",
        "row_indices = np.random.permutation(X_norm.shape[0])\n",
        "\n",
        "print(\"Random permutation of row indices:\", row_indices)\n",
        "\n",
        "\n",
        "# Define the ratios for training, cross-validation, and test sets\n",
        "train_ratio = 0.6\n",
        "cross_val_ratio = 0.2\n",
        "test_ratio = 0.2\n",
        "\n",
        "# Calculate the sizes of each set based on the ratios\n",
        "num_rows = X_norm.shape[0]\n",
        "num_train = int(train_ratio * num_rows)\n",
        "num_cross_val = int(cross_val_ratio * num_rows)\n",
        "num_test = int(test_ratio * num_rows)\n",
        "\n",
        "# Use row_indices to split the data into sets\n",
        "X_train = X_norm[row_indices[:num_train]]\n",
        "X_crossVal = X_norm[row_indices[num_train:num_train + num_cross_val]]\n",
        "X_test = X_norm[row_indices[num_train + num_cross_val:]]\n",
        "\n",
        "print(\"X_train shape:\", X_train.shape)\n",
        "print(\"X_crossVal shape:\", X_crossVal.shape)\n",
        "print(\"X_test shape:\", X_test.shape)"
      ],
      "metadata": {
        "colab": {
          "base_uri": "https://localhost:8080/"
        },
        "id": "ItMbPl34_Sa1",
        "outputId": "0836177f-78a7-415b-d19b-199dcec3114d"
      },
      "execution_count": 16,
      "outputs": [
        {
          "output_type": "stream",
          "name": "stdout",
          "text": [
            "Mounted at /NumPy.ipnyb\n",
            "(1000, 20)\n",
            "Shape of ave_cols: (20,)\n",
            "Shape of std_cols: (20,)\n",
            "Mean normalized X:\n",
            "[[ 0.58366229  1.16041833  1.43377619 ...  0.64660023 -0.06788665\n",
            "   0.17899818]\n",
            " [ 0.9833369   1.36985033  0.69300251 ...  0.15901078  1.50530185\n",
            "  -1.64619101]\n",
            " [ 1.7160737  -0.57606421 -1.65499174 ... -0.98601061 -1.07549604\n",
            "   1.01319585]\n",
            " ...\n",
            " [-0.36745343  0.7679067   0.65530055 ... -1.43821621 -0.32802559\n",
            "  -0.7461535 ]\n",
            " [ 1.66044888 -0.4845244   0.10792395 ...  0.69330691 -1.08716454\n",
            "   0.00998662]\n",
            " [-0.89348565 -0.50879632 -0.30051394 ...  0.41023611  0.65418765\n",
            "   1.07835693]]\n",
            "Average of all values in X_norm: 3.4638958368304882e-18\n",
            "Average of minimum values in each column of X_norm: -1.7223386082748693\n",
            "Average of maximum values in each column of X_norm: 1.7260545089703023\n",
            "Random permutation of row indices: [ 18 300 404  38 883 504  26 996 816 643 631  97 104 243  31 426 634  61\n",
            " 605 545  87 331 147 420 153 362 505 551 728 692 785 198 821 778 835 746\n",
            " 227 272  54 226 472 429 592 651 292 249 988 144 854  16 416 682   6 368\n",
            " 365 527 706 437 889 599 447 406 811  89 627  24 255 693 394 246 438 134\n",
            " 965 825 522 649  75 378  33 665 533 251 866 119 912 574 266 375 783 918\n",
            " 933 949 633 847 945 943 217 494 840 876   0 125 681 939 157 802 236 388\n",
            "   9 174 307   3 644 357 603 830  95 890 278 389 687 356 544 609 102 593\n",
            "  78 568 792 415  64 456 299 570 962 625 891 370 800 324 207 679 804 971\n",
            " 204 412 541 531 595  12 284 142 915 805 670  68 497 170 245 980 872  36\n",
            " 563 401 953 126 628 399 717 218 938 443 276 458 188  99 418 164 736 578\n",
            " 234 772 803 303 395 997 886 532 451 632 881 358 919 903 110 129 293 696\n",
            " 281 530 403 653 695 960 808 873 137 196 677 977 707 898 624 304 776 503\n",
            " 863 517  80 921 353  50 428 468 755 639 617 691 337 502 176 508 280 205\n",
            " 250  81 302 587 709 141 121 260 318 371 180 178 732 765 737 439 852 315\n",
            " 215 701 650 614 983  48 496 857 993 556 306 480 940 853 329 721 248 994\n",
            " 982 834 138  94 322 252 187 553 216 385 978 478  93  28 699 405  69 676\n",
            " 409 562 335 311  79 491 810 200 295 265 228 984  17 731 108 384 413 911\n",
            " 768 341 843  49 973 509  55 892  39 596 419 139 524 742 523 895 974 424\n",
            " 884 855 534 572  85 310 957  67 591 981 210 685 487 913  45 347 620 767\n",
            " 860 191 744 156 871 849 493 720 168 140 499 446 348 807 845 967 678 264\n",
            " 194 664 564 213 549 769 740 745  59 954 931 671 476  15 350 766 715 379\n",
            " 729 788 393 466 490 220 869 167 711 667 576  30 343 221  41 397 640 417\n",
            " 512 407 344  27 735 192 791  66 495 120 585 526 942 320 333 958 759 932\n",
            " 616 268 972 739 654 784 538 923 361 244 934 177 629 756 387  65 479 380\n",
            " 481 638 970 258 777 146 160 754 301 270 448 673 724 154   7 579 661 128\n",
            " 155 339 877 336 501 498 752 723 787 239 381 743 753 391 726 611 774 459\n",
            " 897  58 839 267 294 396 475   1 618 844 979 975  86 904 360 907 758 672\n",
            " 702 698 444 861 725 127 286 431 770 697  74 516 386 797 130 377 453 238\n",
            " 376 680 483 604 175 181 514 271 230 282 602 820 367 837 332 976 485 355\n",
            " 716 738 771 430  19 990 445 870 833 515 909 461 199 149 703 761 757 708\n",
            " 233 440 586 846 658 262 364 946 838  40 832 558 321 186 893 434  84 374\n",
            " 222  88 569 718 414 470 790 101 474 392 105 298 961 179 812 547 172  20\n",
            " 463  25 229 630 642 626 402 955 926 705 675 571 253 471 305 546 190 666\n",
            " 959 922 992 369 254 288 818 674 995 539 349 878 173  23 263 937 189 150\n",
            " 559 964 858 749 917 510 161 896 214 354 325 865 425 859 600 366 956 713\n",
            " 584 621 436 906 454 400 372 663 801 552 398 106 408 690 850 719  29 518\n",
            " 733 543 548 410 829 842 712 338 277 492 999 525 540 660 668 208 594 520\n",
            "  72 951 507 952  34 601 274 610 700 169 482 989 435 345 261 987 888 326\n",
            " 751 657 694 352 806 557 986 285 351 542 455 290 133 203 885  42 467 636\n",
            "  82 567 781 899 773 183 465 432   5 269 607 237 171  13 312 117 874 555\n",
            " 316 163 457 107 247 880 506 887 297 296   8 143 550 908 799 159 256 240\n",
            " 656 655 615 241 924  91 112 780 500 793 330 856 109 382 944 929 575 998\n",
            " 287 166  52 464 441 423 118 786 537 231 422 659 340 488  83 879 124 581\n",
            " 427 688 760 689 747 762  63 197  62 950 831 560 722  90 828 851 985 279\n",
            " 113 589 727 212 209  44 346 779 314 764 916 935 185 201  96 211 927 566\n",
            " 122  53 462 477 165 775 815 662 613 608  76 383 313 484 814 622 411 182\n",
            " 151 554 103  70 390 710 704 519 452 450 309 796 969 894 902 317 582 449\n",
            " 223 598   2  51 232 225 308 637 817 327 152 841 606 991 529 259 966 813\n",
            " 342 319 289 925 158  14  46 900 914 623 822 206 864 136 588 583 148  60\n",
            " 590 868 782 235 905 848 968 748 131 920 686 323 580 469  43 521  77 193\n",
            " 123  22 648 573 646 363 115 202 489 565 882 901 291 511 275 647 809 224\n",
            "  10 145  92 824  56 669 460 577 116 936 798 750 862 928 114  47 219 536\n",
            " 513 867 195 836 794  37 184 963  35 597 433 641 132  71   4 930 910 819\n",
            " 111 795 645 257 486 619 827 100 734  73 826  32 373 528 473 328 162 635\n",
            " 334 763 875 561  57 535 135 652 273 242 941  21 684 421 683 741  98 714\n",
            " 789 442 730 283 823  11 359 612 947 948]\n",
            "X_train shape: (600, 20)\n",
            "X_crossVal shape: (200, 20)\n",
            "X_test shape: (200, 20)\n"
          ]
        }
      ]
    }
  ]
}